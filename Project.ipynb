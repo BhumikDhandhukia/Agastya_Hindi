{
 "cells": [
  {
   "cell_type": "markdown",
   "metadata": {},
   "source": [
    "TEXT TO SPEECH"
   ]
  },
  {
   "cell_type": "code",
   "execution_count": 1,
   "metadata": {},
   "outputs": [],
   "source": [
    "# !pip install pyttsx3\n",
    "import pyttsx3\n",
    "text_speech= pyttsx3.init()\n",
    "\n",
    "ans=\"AI Chat is an AI chatbot that writes text. You can use it to write stories, messages, or programming code. You can use the AI chatbot as a virtual tutor in almost any subject.\"\n",
    "ans = 'HELLLO '\n",
    "text_speech.say(ans)\n",
    "text_speech.runAndWait()\n"
   ]
  },
  {
   "cell_type": "markdown",
   "metadata": {},
   "source": [
    "SPEECH RECOGNATION"
   ]
  },
  {
   "cell_type": "code",
   "execution_count": 2,
   "metadata": {},
   "outputs": [],
   "source": [
    "# !pip install pyaudio\n",
    "# !pip install SpeechRecognition\n",
    "import speech_recognition as sr\n",
    "r=sr.Recognizer()\n",
    "def speak():\n",
    "    r=sr.Recognizer()\n",
    "\n",
    "    with sr.Microphone() as source:\n",
    "        r.adjust_for_ambient_noise(source)\n",
    "        print(\"Say\")\n",
    "        audio=r.listen(source)\n",
    "        try:\n",
    "            print(r.recognize_google(audio,language='hi-In'))\n",
    "            return r.recognize_google(audio)\n",
    "        except Exception as e:\n",
    "            print(\"error\"+str(e))\n",
    "            return \"error\"+str(e)\n",
    "\n",
    "#speak()"
   ]
  },
  {
   "cell_type": "markdown",
   "metadata": {},
   "source": [
    "PRE PROCESSING"
   ]
  },
  {
   "cell_type": "code",
   "execution_count": 3,
   "metadata": {},
   "outputs": [],
   "source": [
    "import pandas as pd \n",
    "import numpy as np\n",
    "import re\n",
    "from sklearn.feature_extraction.text import CountVectorizer\n",
    "from sklearn.feature_extraction.text import TfidfVectorizer\n",
    "from sklearn.preprocessing import LabelEncoder"
   ]
  },
  {
   "cell_type": "code",
   "execution_count": 4,
   "metadata": {},
   "outputs": [
    {
     "data": {
      "text/plain": [
       "0        कार्ल हेनरिक उलरिच ने इस वर्गीकरण योजना को कब ...\n",
       "1        एक जीव जो सर्केडियन लय का उपयोग करता है वह अपन...\n",
       "2        किस टेनेसी शहर में अफ्रीकी-अमेरिकी आबादी सबसे ...\n",
       "3                गौतम बुद्ध के प्रवचनों में क्या शामिल है?\n",
       "4                        किस पार्टी का नानजिंग पर शासन है?\n",
       "                               ...                        \n",
       "69974                    शिखर सम्मेलनों की जलवायु कैसी है?\n",
       "69975                             मैकडरमॉट को कब चुना गया?\n",
       "69976    नया लिवरपूल एफसी स्टेडियम 1879 में कहाँ स्थित था?\n",
       "69977    नमक के अलावा माली में और कौन-से बड़े प्राकृतिक...\n",
       "69978    वानूआतू में किस देश से मिशनरियों ने प्रेसबिटेर...\n",
       "Name: question, Length: 69979, dtype: object"
      ]
     },
     "execution_count": 4,
     "metadata": {},
     "output_type": "execute_result"
    }
   ],
   "source": [
    "df=pd.read_csv(\"hindiQuestion.csv\")\n",
    "df=df.drop([\"squad_id\"],axis=\"columns\")\n",
    "\n",
    "# pattern = r'[^\\d\\s\\u0900-\\u097F]+'\n",
    "df['question']\n"
   ]
  },
  {
   "cell_type": "code",
   "execution_count": 5,
   "metadata": {},
   "outputs": [
    {
     "name": "stdout",
     "output_type": "stream",
     "text": [
      "कार्ल हेनरिक उलरिच ने इस वर्गीकरण योजना को कब विकसित किया?! ? ; ::: + कार्ल ; हेनरिक उलरिच ने इस वर्गीकरण योजना को कब;; विकसित किया   \n",
      "कार्ल हेनरिक उलरिच ने इस वर्गीकरण योजना को कब विकसित किया     कार्ल  हेनरिक उलरिच ने इस वर्गीकरण योजना को कब विकसित किया   \n",
      "['कार्ल', 'हेनरिक', 'उलरिच', 'ने', 'इस', 'वर्गीकरण', 'योजना', 'को', 'कब', 'विकसित', 'किया', 'कार्ल', 'हेनरिक', 'उलरिच', 'ने', 'इस', 'वर्गीकरण', 'योजना', 'को', 'कब', 'विकसित', 'किया']\n"
     ]
    },
    {
     "data": {
      "text/plain": [
       "'ने'"
      ]
     },
     "execution_count": 5,
     "metadata": {},
     "output_type": "execute_result"
    }
   ],
   "source": [
    "pattern = r'[^\\d\\s\\u0900-\\u097F]+'\n",
    "#trial\n",
    "test = df[\"question\"][0]+\"! ? ; ::: + कार्ल ; हेनरिक उलरिच ने इस वर्गीकरण योजना को कब;; विकसित किया   \"\n",
    "print(test)\n",
    "test = re.sub(pattern, '', test )\n",
    "print(test)\n",
    "\n",
    "\n",
    "\n",
    "##tokenize\n",
    "from nltk.tokenize import word_tokenize,RegexpTokenizer\n",
    "from nltk.stem import WordNetLemmatizer\n",
    "\n",
    "wnl = WordNetLemmatizer()\n",
    "print(word_tokenize(test))\n",
    "wnl.lemmatize(word_tokenize(test)[3])\n",
    "\n",
    "\n",
    "#trial"
   ]
  },
  {
   "cell_type": "markdown",
   "metadata": {},
   "source": [
    "DATA PREPERATION FUNCTION"
   ]
  },
  {
   "cell_type": "code",
   "execution_count": 6,
   "metadata": {},
   "outputs": [
    {
     "data": {
      "text/html": [
       "<div>\n",
       "<style scoped>\n",
       "    .dataframe tbody tr th:only-of-type {\n",
       "        vertical-align: middle;\n",
       "    }\n",
       "\n",
       "    .dataframe tbody tr th {\n",
       "        vertical-align: top;\n",
       "    }\n",
       "\n",
       "    .dataframe thead th {\n",
       "        text-align: right;\n",
       "    }\n",
       "</style>\n",
       "<table border=\"1\" class=\"dataframe\">\n",
       "  <thead>\n",
       "    <tr style=\"text-align: right;\">\n",
       "      <th></th>\n",
       "      <th>Unnamed: 0</th>\n",
       "      <th>id</th>\n",
       "      <th>answer</th>\n",
       "      <th>context</th>\n",
       "      <th>question</th>\n",
       "      <th>Answers_Code</th>\n",
       "    </tr>\n",
       "  </thead>\n",
       "  <tbody>\n",
       "    <tr>\n",
       "      <th>0</th>\n",
       "      <td>0</td>\n",
       "      <td>1</td>\n",
       "      <td>१८६० के दशक में</td>\n",
       "      <td>1860 के दशक में कार्ल हेनरिक उलरिच द्वारा निजी...</td>\n",
       "      <td>कार्ल हेनरिक उलरिच वर्गीकरण योजना विकसित</td>\n",
       "      <td>50801</td>\n",
       "    </tr>\n",
       "    <tr>\n",
       "      <th>1</th>\n",
       "      <td>1</td>\n",
       "      <td>2</td>\n",
       "      <td>संसाधन</td>\n",
       "      <td>इस प्रकार वे जीवों को उन लोगों की तुलना में पर...</td>\n",
       "      <td>जीव सर्केडियन लय उपयोग लाभ के उपयोग नहीं</td>\n",
       "      <td>45498</td>\n",
       "    </tr>\n",
       "    <tr>\n",
       "      <th>2</th>\n",
       "      <td>2</td>\n",
       "      <td>3</td>\n",
       "      <td>मेम्फिस</td>\n",
       "      <td>लोकतांत्रिक ताकत ज्यादातर चार प्रमुख शहरों के ...</td>\n",
       "      <td>टेनेसी शहर अफ्रीकी अमेरिकी आबादी सबसे अधिक</td>\n",
       "      <td>37361</td>\n",
       "    </tr>\n",
       "    <tr>\n",
       "      <th>3</th>\n",
       "      <td>3</td>\n",
       "      <td>4</td>\n",
       "      <td>सुता पिटक</td>\n",
       "      <td>\"\" \"प्यारेली त्रिपिटक\" \", जिसका अर्थ\" \"तीन टोक...</td>\n",
       "      <td>गौतम बुद्ध के प्रवचनों शामिल</td>\n",
       "      <td>47799</td>\n",
       "    </tr>\n",
       "    <tr>\n",
       "      <th>4</th>\n",
       "      <td>4</td>\n",
       "      <td>5</td>\n",
       "      <td>सीपीसी</td>\n",
       "      <td>\"वर्तमान में, नानजिंग की सरकार का पूरा नाम\" \"न...</td>\n",
       "      <td>पार्टी नानजिंग शासन</td>\n",
       "      <td>47693</td>\n",
       "    </tr>\n",
       "    <tr>\n",
       "      <th>...</th>\n",
       "      <td>...</td>\n",
       "      <td>...</td>\n",
       "      <td>...</td>\n",
       "      <td>...</td>\n",
       "      <td>...</td>\n",
       "      <td>...</td>\n",
       "    </tr>\n",
       "    <tr>\n",
       "      <th>69974</th>\n",
       "      <td>69974</td>\n",
       "      <td>69975</td>\n",
       "      <td>कोई भी शिखर स्थायी बर्फ के क्षेत्र में नहीं पह...</td>\n",
       "      <td>कोई भी शिखर स्थायी बर्फ के क्षेत्र में नहीं पह...</td>\n",
       "      <td>शिखर सम्मेलनों जलवायु कैसी</td>\n",
       "      <td>17812</td>\n",
       "    </tr>\n",
       "    <tr>\n",
       "      <th>69975</th>\n",
       "      <td>69975</td>\n",
       "      <td>69976</td>\n",
       "      <td>1988</td>\n",
       "      <td>संघीय रूप से, सिएटल वाशिंगटन के 7 वें कांग्रेस...</td>\n",
       "      <td>मैकडरमॉट चुना</td>\n",
       "      <td>3088</td>\n",
       "    </tr>\n",
       "    <tr>\n",
       "      <th>69976</th>\n",
       "      <td>69976</td>\n",
       "      <td>69977</td>\n",
       "      <td>स्टेनली पार्क</td>\n",
       "      <td>एवर्टन मूल रूप से स्टेनली पार्क के दक्षिण-पूर्...</td>\n",
       "      <td>नया लिवरपूल एफसी स्टेडियम 1879 स्थित</td>\n",
       "      <td>48917</td>\n",
       "    </tr>\n",
       "    <tr>\n",
       "      <th>69977</th>\n",
       "      <td>69977</td>\n",
       "      <td>69978</td>\n",
       "      <td>प्रमुख प्राकृतिक संसाधनों में सोना शामिल है</td>\n",
       "      <td>माली के प्रमुख प्राकृतिक संसाधनों में से कुछ म...</td>\n",
       "      <td>नमक के अलावा माली प्राकृतिक संसाधन</td>\n",
       "      <td>31226</td>\n",
       "    </tr>\n",
       "    <tr>\n",
       "      <th>69978</th>\n",
       "      <td>69978</td>\n",
       "      <td>69979</td>\n",
       "      <td>स्कॉटलैंड</td>\n",
       "      <td>पीसीवी को स्कॉटलैंड से मिशनरियों द्वारा वानूआत...</td>\n",
       "      <td>वानूआतू देश मिशनरियों प्रेसबिटेरियन चर्च शुरूआत</td>\n",
       "      <td>48767</td>\n",
       "    </tr>\n",
       "  </tbody>\n",
       "</table>\n",
       "<p>69979 rows × 6 columns</p>\n",
       "</div>"
      ],
      "text/plain": [
       "       Unnamed: 0     id                                             answer  \\\n",
       "0               0      1                                    १८६० के दशक में   \n",
       "1               1      2                                             संसाधन   \n",
       "2               2      3                                            मेम्फिस   \n",
       "3               3      4                                          सुता पिटक   \n",
       "4               4      5                                             सीपीसी   \n",
       "...           ...    ...                                                ...   \n",
       "69974       69974  69975  कोई भी शिखर स्थायी बर्फ के क्षेत्र में नहीं पह...   \n",
       "69975       69975  69976                                               1988   \n",
       "69976       69976  69977                                      स्टेनली पार्क   \n",
       "69977       69977  69978        प्रमुख प्राकृतिक संसाधनों में सोना शामिल है   \n",
       "69978       69978  69979                                          स्कॉटलैंड   \n",
       "\n",
       "                                                 context  \\\n",
       "0      1860 के दशक में कार्ल हेनरिक उलरिच द्वारा निजी...   \n",
       "1      इस प्रकार वे जीवों को उन लोगों की तुलना में पर...   \n",
       "2      लोकतांत्रिक ताकत ज्यादातर चार प्रमुख शहरों के ...   \n",
       "3      \"\" \"प्यारेली त्रिपिटक\" \", जिसका अर्थ\" \"तीन टोक...   \n",
       "4      \"वर्तमान में, नानजिंग की सरकार का पूरा नाम\" \"न...   \n",
       "...                                                  ...   \n",
       "69974  कोई भी शिखर स्थायी बर्फ के क्षेत्र में नहीं पह...   \n",
       "69975  संघीय रूप से, सिएटल वाशिंगटन के 7 वें कांग्रेस...   \n",
       "69976  एवर्टन मूल रूप से स्टेनली पार्क के दक्षिण-पूर्...   \n",
       "69977  माली के प्रमुख प्राकृतिक संसाधनों में से कुछ म...   \n",
       "69978  पीसीवी को स्कॉटलैंड से मिशनरियों द्वारा वानूआत...   \n",
       "\n",
       "                                              question  Answers_Code  \n",
       "0             कार्ल हेनरिक उलरिच वर्गीकरण योजना विकसित         50801  \n",
       "1             जीव सर्केडियन लय उपयोग लाभ के उपयोग नहीं         45498  \n",
       "2           टेनेसी शहर अफ्रीकी अमेरिकी आबादी सबसे अधिक         37361  \n",
       "3                         गौतम बुद्ध के प्रवचनों शामिल         47799  \n",
       "4                                  पार्टी नानजिंग शासन         47693  \n",
       "...                                                ...           ...  \n",
       "69974                       शिखर सम्मेलनों जलवायु कैसी         17812  \n",
       "69975                                    मैकडरमॉट चुना          3088  \n",
       "69976             नया लिवरपूल एफसी स्टेडियम 1879 स्थित         48917  \n",
       "69977               नमक के अलावा माली प्राकृतिक संसाधन         31226  \n",
       "69978  वानूआतू देश मिशनरियों प्रेसबिटेरियन चर्च शुरूआत         48767  \n",
       "\n",
       "[69979 rows x 6 columns]"
      ]
     },
     "execution_count": 6,
     "metadata": {},
     "output_type": "execute_result"
    }
   ],
   "source": [
    "\n",
    "def data_prep(text):\n",
    "    \n",
    "    text = re.sub(r'[^\\d\\s\\u0900-\\u097F]+', ' ', text )\n",
    "    text=\" \".join(t for t in text.split(\" \") if t not in hindi_stopwords)\n",
    "    return text\n",
    "hindi_stopwords = open('final_stopwords.txt','r', encoding=\"utf8\")\n",
    "hindi_stopwords=(hindi_stopwords.read()).split('\\n')\n",
    "df[\"question\"] = df[\"question\"].apply(data_prep)\n",
    "\n",
    "\n",
    "tf=TfidfVectorizer()\n",
    "tf_train=tf.fit_transform(df[\"question\"])\n",
    "df_check=pd.DataFrame(tf_train.toarray(),columns=tf.get_feature_names_out())\n",
    "\n",
    "le= LabelEncoder()\n",
    "df[\"Answers_Code\"]=le.fit_transform(df[\"answer\"])\n",
    "df\n",
    "\n"
   ]
  },
  {
   "cell_type": "code",
   "execution_count": 7,
   "metadata": {},
   "outputs": [],
   "source": [
    "# from sklearn.naive_bayes import MultinomialNB\n",
    "# mn=MultinomialNB()\n",
    "# mn.fit(df_check,df[\"Answers_Code\"])"
   ]
  },
  {
   "cell_type": "code",
   "execution_count": 8,
   "metadata": {},
   "outputs": [],
   "source": [
    " import pickle\n",
    "# pickle.dump(mn , open(\"/Agastya_Hindi/trainedModel\",'wb'))\n",
    "\n",
    "\n",
    "#fetching trained model\n",
    "mn = pickle.load( open(\"/Agastya_Hindi/trainedModel\",'rb'))"
   ]
  },
  {
   "cell_type": "code",
   "execution_count": 9,
   "metadata": {},
   "outputs": [
    {
     "name": "stderr",
     "output_type": "stream",
     "text": [
      "c:\\Users\\DeskTop\\AppData\\Local\\Programs\\Python\\Python310\\lib\\site-packages\\sklearn\\base.py:465: UserWarning: X does not have valid feature names, but MultinomialNB was fitted with feature names\n",
      "  warnings.warn(\n"
     ]
    },
    {
     "name": "stdout",
     "output_type": "stream",
     "text": [
      "\n",
      "\n",
      "\n",
      "\n",
      "वास्तविक स्वतंत्रता की ओर किसी भी कदम को 1956 की हंगरी क्रांति और 1968 की प्राग बसंत में सैन्य बल द्वारा दबा दिया गया था।\n"
     ]
    }
   ],
   "source": [
    "\n",
    "userInput=['टेनेसी शहर']\n",
    "testing=tf.transform(userInput)\n",
    "res=mn.predict(testing)\n",
    "Ans=df[\"context\"].unique()\n",
    "Ans=Ans.tolist()\n",
    "Ans_Code=df[\"Answers_Code\"].unique()\n",
    "Ans_Code=Ans_Code.tolist()\n",
    "print ('\\n\\n\\n')\n",
    "for i in res:\n",
    "    print(Ans[Ans_Code.index(i)])"
   ]
  },
  {
   "cell_type": "code",
   "execution_count": null,
   "metadata": {},
   "outputs": [],
   "source": []
  }
 ],
 "metadata": {
  "kernelspec": {
   "display_name": "Python 3",
   "language": "python",
   "name": "python3"
  },
  "language_info": {
   "codemirror_mode": {
    "name": "ipython",
    "version": 3
   },
   "file_extension": ".py",
   "mimetype": "text/x-python",
   "name": "python",
   "nbconvert_exporter": "python",
   "pygments_lexer": "ipython3",
   "version": "3.10.0"
  }
 },
 "nbformat": 4,
 "nbformat_minor": 2
}
